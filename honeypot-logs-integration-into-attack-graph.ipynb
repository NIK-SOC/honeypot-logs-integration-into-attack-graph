{
 "cells": [
  {
   "cell_type": "markdown",
   "id": "620e7b5b-9a7e-4bc3-ba05-bf6daec78e8e",
   "metadata": {},
   "source": [
    "# Integration of Honeypot Logs into Neo4j Graph Database Using the STIX Data Model\n",
    "## Case Study"
   ]
  },
  {
   "cell_type": "code",
   "execution_count": null,
   "id": "0467588b-1eb5-43b3-822e-f637c57612ee",
   "metadata": {},
   "outputs": [],
   "source": []
  }
 ],
 "metadata": {
  "kernelspec": {
   "display_name": "Python 3 (ipykernel)",
   "language": "python",
   "name": "python3"
  },
  "language_info": {
   "codemirror_mode": {
    "name": "ipython",
    "version": 3
   },
   "file_extension": ".py",
   "mimetype": "text/x-python",
   "name": "python",
   "nbconvert_exporter": "python",
   "pygments_lexer": "ipython3",
   "version": "3.11.5"
  }
 },
 "nbformat": 4,
 "nbformat_minor": 5
}
